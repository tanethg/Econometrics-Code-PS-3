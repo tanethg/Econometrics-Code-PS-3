{
 "cells": [
  {
   "cell_type": "markdown",
   "metadata": {},
   "source": [
    "## Taneth Germishuys - Econometrics PS 3 ##"
   ]
  },
  {
   "cell_type": "code",
   "execution_count": 1,
   "metadata": {},
   "outputs": [],
   "source": [
    "\n",
    "import pandas as pd\n",
    "import numpy as np\n",
    "import statsmodels.api as sm\n",
    "import statsmodels.formula.api as smf\n",
    "from scipy.stats import norm\n",
    "import scipy.stats as stats\n",
    "from scipy.stats import chi2\n",
    "from scipy.optimize import minimize\n",
    "from linearmodels.iv import IV2SLS, IVGMM, compare\n"
   ]
  },
  {
   "cell_type": "markdown",
   "metadata": {},
   "source": [
    "## Question 0 ##"
   ]
  },
  {
   "cell_type": "markdown",
   "metadata": {},
   "source": [
    "# Part A #"
   ]
  },
  {
   "cell_type": "code",
   "execution_count": 51,
   "metadata": {},
   "outputs": [],
   "source": [
    "# Import Titanic CSV file\n",
    "data_T = pd.read_csv('TitanicData.csv')"
   ]
  },
  {
   "cell_type": "code",
   "execution_count": 52,
   "metadata": {},
   "outputs": [
    {
     "data": {
      "text/html": [
       "<div>\n",
       "<style scoped>\n",
       "    .dataframe tbody tr th:only-of-type {\n",
       "        vertical-align: middle;\n",
       "    }\n",
       "\n",
       "    .dataframe tbody tr th {\n",
       "        vertical-align: top;\n",
       "    }\n",
       "\n",
       "    .dataframe thead th {\n",
       "        text-align: right;\n",
       "    }\n",
       "</style>\n",
       "<table border=\"1\" class=\"dataframe\">\n",
       "  <thead>\n",
       "    <tr style=\"text-align: right;\">\n",
       "      <th></th>\n",
       "      <th>PassengerId</th>\n",
       "      <th>Survived</th>\n",
       "      <th>Pclass</th>\n",
       "      <th>Name</th>\n",
       "      <th>Sex</th>\n",
       "      <th>Age</th>\n",
       "      <th>SibSp</th>\n",
       "      <th>Parch</th>\n",
       "      <th>Ticket</th>\n",
       "      <th>Fare</th>\n",
       "      <th>Cabin</th>\n",
       "      <th>Embarked</th>\n",
       "    </tr>\n",
       "  </thead>\n",
       "  <tbody>\n",
       "    <tr>\n",
       "      <th>0</th>\n",
       "      <td>1</td>\n",
       "      <td>0</td>\n",
       "      <td>3</td>\n",
       "      <td>Braund, Mr. Owen Harris</td>\n",
       "      <td>male</td>\n",
       "      <td>22.0</td>\n",
       "      <td>1</td>\n",
       "      <td>0</td>\n",
       "      <td>A/5 21171</td>\n",
       "      <td>7.2500</td>\n",
       "      <td>NaN</td>\n",
       "      <td>S</td>\n",
       "    </tr>\n",
       "    <tr>\n",
       "      <th>1</th>\n",
       "      <td>2</td>\n",
       "      <td>1</td>\n",
       "      <td>1</td>\n",
       "      <td>Cumings, Mrs. John Bradley (Florence Briggs Th...</td>\n",
       "      <td>female</td>\n",
       "      <td>38.0</td>\n",
       "      <td>1</td>\n",
       "      <td>0</td>\n",
       "      <td>PC 17599</td>\n",
       "      <td>71.2833</td>\n",
       "      <td>C85</td>\n",
       "      <td>C</td>\n",
       "    </tr>\n",
       "    <tr>\n",
       "      <th>2</th>\n",
       "      <td>3</td>\n",
       "      <td>1</td>\n",
       "      <td>3</td>\n",
       "      <td>Heikkinen, Miss. Laina</td>\n",
       "      <td>female</td>\n",
       "      <td>26.0</td>\n",
       "      <td>0</td>\n",
       "      <td>0</td>\n",
       "      <td>STON/O2. 3101282</td>\n",
       "      <td>7.9250</td>\n",
       "      <td>NaN</td>\n",
       "      <td>S</td>\n",
       "    </tr>\n",
       "    <tr>\n",
       "      <th>3</th>\n",
       "      <td>4</td>\n",
       "      <td>1</td>\n",
       "      <td>1</td>\n",
       "      <td>Futrelle, Mrs. Jacques Heath (Lily May Peel)</td>\n",
       "      <td>female</td>\n",
       "      <td>35.0</td>\n",
       "      <td>1</td>\n",
       "      <td>0</td>\n",
       "      <td>113803</td>\n",
       "      <td>53.1000</td>\n",
       "      <td>C123</td>\n",
       "      <td>S</td>\n",
       "    </tr>\n",
       "    <tr>\n",
       "      <th>4</th>\n",
       "      <td>5</td>\n",
       "      <td>0</td>\n",
       "      <td>3</td>\n",
       "      <td>Allen, Mr. William Henry</td>\n",
       "      <td>male</td>\n",
       "      <td>35.0</td>\n",
       "      <td>0</td>\n",
       "      <td>0</td>\n",
       "      <td>373450</td>\n",
       "      <td>8.0500</td>\n",
       "      <td>NaN</td>\n",
       "      <td>S</td>\n",
       "    </tr>\n",
       "  </tbody>\n",
       "</table>\n",
       "</div>"
      ],
      "text/plain": [
       "   PassengerId  Survived  Pclass  \\\n",
       "0            1         0       3   \n",
       "1            2         1       1   \n",
       "2            3         1       3   \n",
       "3            4         1       1   \n",
       "4            5         0       3   \n",
       "\n",
       "                                                Name     Sex   Age  SibSp  \\\n",
       "0                            Braund, Mr. Owen Harris    male  22.0      1   \n",
       "1  Cumings, Mrs. John Bradley (Florence Briggs Th...  female  38.0      1   \n",
       "2                             Heikkinen, Miss. Laina  female  26.0      0   \n",
       "3       Futrelle, Mrs. Jacques Heath (Lily May Peel)  female  35.0      1   \n",
       "4                           Allen, Mr. William Henry    male  35.0      0   \n",
       "\n",
       "   Parch            Ticket     Fare Cabin Embarked  \n",
       "0      0         A/5 21171   7.2500   NaN        S  \n",
       "1      0          PC 17599  71.2833   C85        C  \n",
       "2      0  STON/O2. 3101282   7.9250   NaN        S  \n",
       "3      0            113803  53.1000  C123        S  \n",
       "4      0            373450   8.0500   NaN        S  "
      ]
     },
     "execution_count": 52,
     "metadata": {},
     "output_type": "execute_result"
    }
   ],
   "source": [
    "data_T.head()"
   ]
  },
  {
   "cell_type": "code",
   "execution_count": 53,
   "metadata": {},
   "outputs": [
    {
     "name": "stdout",
     "output_type": "stream",
     "text": [
      "Age         177\n",
      "Survived      0\n",
      "Sex           0\n",
      "Pclass        0\n",
      "dtype: int64\n"
     ]
    }
   ],
   "source": [
    "# Check for missing values\n",
    "columns_to_check = [\"Age\", \"Survived\", \"Sex\", \"Pclass\"]\n",
    "missing_values = data_T[columns_to_check].isnull().sum()\n",
    "print(missing_values)"
   ]
  },
  {
   "cell_type": "code",
   "execution_count": 54,
   "metadata": {},
   "outputs": [],
   "source": [
    "# Since \"Age\" is the only variable with missing observations these observations will be dropped\n",
    "data_T_cleaned = data_T.dropna(subset=[\"Age\"])"
   ]
  },
  {
   "cell_type": "code",
   "execution_count": 55,
   "metadata": {},
   "outputs": [
    {
     "name": "stdout",
     "output_type": "stream",
     "text": [
      "Age         0\n",
      "Survived    0\n",
      "Sex         0\n",
      "Pclass      0\n",
      "dtype: int64\n"
     ]
    }
   ],
   "source": [
    "# Confirm there are no longer missing values\n",
    "columns_to_check = [\"Age\", \"Survived\", \"Sex\", \"Pclass\"]\n",
    "missing_values = data_T_cleaned[columns_to_check].isnull().sum()\n",
    "print(missing_values)"
   ]
  },
  {
   "cell_type": "code",
   "execution_count": 56,
   "metadata": {},
   "outputs": [
    {
     "name": "stdout",
     "output_type": "stream",
     "text": [
      "['male' 'female']\n"
     ]
    }
   ],
   "source": [
    "print(data_T_cleaned['Sex'].unique())"
   ]
  },
  {
   "cell_type": "code",
   "execution_count": 57,
   "metadata": {},
   "outputs": [
    {
     "name": "stderr",
     "output_type": "stream",
     "text": [
      "C:\\Users\\tanet\\AppData\\Local\\Temp\\ipykernel_4268\\2940993650.py:2: SettingWithCopyWarning: \n",
      "A value is trying to be set on a copy of a slice from a DataFrame.\n",
      "Try using .loc[row_indexer,col_indexer] = value instead\n",
      "\n",
      "See the caveats in the documentation: https://pandas.pydata.org/pandas-docs/stable/user_guide/indexing.html#returning-a-view-versus-a-copy\n",
      "  data_T_cleaned['Sex'] = data_T_cleaned['Sex'].map({'male': 1, 'female': 0})\n"
     ]
    },
    {
     "data": {
      "text/html": [
       "<div>\n",
       "<style scoped>\n",
       "    .dataframe tbody tr th:only-of-type {\n",
       "        vertical-align: middle;\n",
       "    }\n",
       "\n",
       "    .dataframe tbody tr th {\n",
       "        vertical-align: top;\n",
       "    }\n",
       "\n",
       "    .dataframe thead th {\n",
       "        text-align: right;\n",
       "    }\n",
       "</style>\n",
       "<table border=\"1\" class=\"dataframe\">\n",
       "  <thead>\n",
       "    <tr style=\"text-align: right;\">\n",
       "      <th></th>\n",
       "      <th>PassengerId</th>\n",
       "      <th>Survived</th>\n",
       "      <th>Pclass</th>\n",
       "      <th>Name</th>\n",
       "      <th>Sex</th>\n",
       "      <th>Age</th>\n",
       "      <th>SibSp</th>\n",
       "      <th>Parch</th>\n",
       "      <th>Ticket</th>\n",
       "      <th>Fare</th>\n",
       "      <th>Cabin</th>\n",
       "      <th>Embarked</th>\n",
       "    </tr>\n",
       "  </thead>\n",
       "  <tbody>\n",
       "    <tr>\n",
       "      <th>0</th>\n",
       "      <td>1</td>\n",
       "      <td>0</td>\n",
       "      <td>3</td>\n",
       "      <td>Braund, Mr. Owen Harris</td>\n",
       "      <td>1</td>\n",
       "      <td>22.0</td>\n",
       "      <td>1</td>\n",
       "      <td>0</td>\n",
       "      <td>A/5 21171</td>\n",
       "      <td>7.2500</td>\n",
       "      <td>NaN</td>\n",
       "      <td>S</td>\n",
       "    </tr>\n",
       "    <tr>\n",
       "      <th>1</th>\n",
       "      <td>2</td>\n",
       "      <td>1</td>\n",
       "      <td>1</td>\n",
       "      <td>Cumings, Mrs. John Bradley (Florence Briggs Th...</td>\n",
       "      <td>0</td>\n",
       "      <td>38.0</td>\n",
       "      <td>1</td>\n",
       "      <td>0</td>\n",
       "      <td>PC 17599</td>\n",
       "      <td>71.2833</td>\n",
       "      <td>C85</td>\n",
       "      <td>C</td>\n",
       "    </tr>\n",
       "    <tr>\n",
       "      <th>2</th>\n",
       "      <td>3</td>\n",
       "      <td>1</td>\n",
       "      <td>3</td>\n",
       "      <td>Heikkinen, Miss. Laina</td>\n",
       "      <td>0</td>\n",
       "      <td>26.0</td>\n",
       "      <td>0</td>\n",
       "      <td>0</td>\n",
       "      <td>STON/O2. 3101282</td>\n",
       "      <td>7.9250</td>\n",
       "      <td>NaN</td>\n",
       "      <td>S</td>\n",
       "    </tr>\n",
       "    <tr>\n",
       "      <th>3</th>\n",
       "      <td>4</td>\n",
       "      <td>1</td>\n",
       "      <td>1</td>\n",
       "      <td>Futrelle, Mrs. Jacques Heath (Lily May Peel)</td>\n",
       "      <td>0</td>\n",
       "      <td>35.0</td>\n",
       "      <td>1</td>\n",
       "      <td>0</td>\n",
       "      <td>113803</td>\n",
       "      <td>53.1000</td>\n",
       "      <td>C123</td>\n",
       "      <td>S</td>\n",
       "    </tr>\n",
       "    <tr>\n",
       "      <th>4</th>\n",
       "      <td>5</td>\n",
       "      <td>0</td>\n",
       "      <td>3</td>\n",
       "      <td>Allen, Mr. William Henry</td>\n",
       "      <td>1</td>\n",
       "      <td>35.0</td>\n",
       "      <td>0</td>\n",
       "      <td>0</td>\n",
       "      <td>373450</td>\n",
       "      <td>8.0500</td>\n",
       "      <td>NaN</td>\n",
       "      <td>S</td>\n",
       "    </tr>\n",
       "  </tbody>\n",
       "</table>\n",
       "</div>"
      ],
      "text/plain": [
       "   PassengerId  Survived  Pclass  \\\n",
       "0            1         0       3   \n",
       "1            2         1       1   \n",
       "2            3         1       3   \n",
       "3            4         1       1   \n",
       "4            5         0       3   \n",
       "\n",
       "                                                Name  Sex   Age  SibSp  Parch  \\\n",
       "0                            Braund, Mr. Owen Harris    1  22.0      1      0   \n",
       "1  Cumings, Mrs. John Bradley (Florence Briggs Th...    0  38.0      1      0   \n",
       "2                             Heikkinen, Miss. Laina    0  26.0      0      0   \n",
       "3       Futrelle, Mrs. Jacques Heath (Lily May Peel)    0  35.0      1      0   \n",
       "4                           Allen, Mr. William Henry    1  35.0      0      0   \n",
       "\n",
       "             Ticket     Fare Cabin Embarked  \n",
       "0         A/5 21171   7.2500   NaN        S  \n",
       "1          PC 17599  71.2833   C85        C  \n",
       "2  STON/O2. 3101282   7.9250   NaN        S  \n",
       "3            113803  53.1000  C123        S  \n",
       "4            373450   8.0500   NaN        S  "
      ]
     },
     "execution_count": 57,
     "metadata": {},
     "output_type": "execute_result"
    }
   ],
   "source": [
    "# Convert Sex to Male =1 and Female = 0\n",
    "data_T_cleaned['Sex'] = data_T_cleaned['Sex'].map({'male': 1, 'female': 0})\n",
    "data_T_cleaned.head()"
   ]
  },
  {
   "cell_type": "code",
   "execution_count": 58,
   "metadata": {},
   "outputs": [
    {
     "name": "stdout",
     "output_type": "stream",
     "text": [
      "Optimization terminated successfully.\n",
      "         Current function value: 0.455180\n",
      "         Iterations 6\n",
      "                          Probit Regression Results                           \n",
      "==============================================================================\n",
      "Dep. Variable:               Survived   No. Observations:                  714\n",
      "Model:                         Probit   Df Residuals:                      710\n",
      "Method:                           MLE   Df Model:                            3\n",
      "Date:                Wed, 20 Nov 2024   Pseudo R-squ.:                  0.3261\n",
      "Time:                        16:34:25   Log-Likelihood:                -325.00\n",
      "converged:                       True   LL-Null:                       -482.26\n",
      "Covariance Type:            nonrobust   LLR p-value:                 7.167e-68\n",
      "==============================================================================\n",
      "                 coef    std err          z      P>|z|      [0.025      0.975]\n",
      "------------------------------------------------------------------------------\n",
      "const          2.8693      0.270     10.646      0.000       2.341       3.398\n",
      "Pclass        -0.7206      0.076     -9.503      0.000      -0.869      -0.572\n",
      "Sex           -1.4838      0.117    -12.726      0.000      -1.712      -1.255\n",
      "Age           -0.0203      0.004     -4.751      0.000      -0.029      -0.012\n",
      "==============================================================================\n"
     ]
    }
   ],
   "source": [
    "# Running the probit model\n",
    "# Set the variables\n",
    "X = data_T_cleaned[['Pclass', 'Sex', 'Age']]  # Independent variables\n",
    "y = data_T_cleaned['Survived']                # Dependent variable (Survived or not)\n",
    "\n",
    "# Add a constant to the independent variables (for the intercept term)\n",
    "X = sm.add_constant(X)\n",
    "\n",
    "# Fit the Probit model\n",
    "probit_model = sm.Probit(y, X)\n",
    "probit_result = probit_model.fit()\n",
    "\n",
    "# Print the summary of the Probit model\n",
    "print(probit_result.summary())"
   ]
  },
  {
   "cell_type": "markdown",
   "metadata": {},
   "source": [
    "# Part B #"
   ]
  },
  {
   "cell_type": "code",
   "execution_count": 59,
   "metadata": {},
   "outputs": [
    {
     "data": {
      "text/plain": [
       "np.float64(0.029192235792053923)"
      ]
     },
     "execution_count": 59,
     "metadata": {},
     "output_type": "execute_result"
    }
   ],
   "source": [
    "\n",
    "# Probit model coefficients from the regression output\n",
    "beta_const = 2.8693\n",
    "beta_pclass = -0.7206\n",
    "beta_sex = -1.4838\n",
    "beta_age = -0.0203\n",
    "\n",
    "# Attributes for a 55-year-old man traveling in the 3rd class\n",
    "pclass = 3  \n",
    "sex = 1  \n",
    "age = 55  \n",
    "\n",
    "# Calculate the linear combination of the independent variables (the latent variable)\n",
    "linear_combination = beta_const + beta_pclass * pclass + beta_sex * sex + beta_age * age\n",
    "\n",
    "# Convert the latent variable to a probability using the cumulative distribution function of the normal distribution\n",
    "probability_of_survival = norm.cdf(linear_combination)\n",
    "\n",
    "probability_of_survival"
   ]
  },
  {
   "cell_type": "code",
   "execution_count": 60,
   "metadata": {},
   "outputs": [
    {
     "name": "stdout",
     "output_type": "stream",
     "text": [
      "0.029192235792053923\n"
     ]
    }
   ],
   "source": [
    "\n",
    "print(probability_of_survival)"
   ]
  },
  {
   "cell_type": "markdown",
   "metadata": {},
   "source": [
    "# Part C #"
   ]
  },
  {
   "cell_type": "code",
   "execution_count": 61,
   "metadata": {},
   "outputs": [
    {
     "name": "stdout",
     "output_type": "stream",
     "text": [
      "0.32577858500766826\n"
     ]
    }
   ],
   "source": [
    "# Calculate the probability of survival for the same 55-year-old man if he were traveling in 1st class\n",
    "pclass_first_class = 1  # 1st class\n",
    "\n",
    "# Calculate the linear combination for 1st class\n",
    "linear_combination_first_class = beta_const + beta_pclass * pclass_first_class + beta_sex * sex + beta_age * age\n",
    "\n",
    "# Convert the latent variable to a probability for 1st class\n",
    "probability_of_survival_first_class = norm.cdf(linear_combination_first_class)\n",
    "\n",
    "print(probability_of_survival_first_class)"
   ]
  },
  {
   "cell_type": "code",
   "execution_count": 62,
   "metadata": {},
   "outputs": [
    {
     "name": "stdout",
     "output_type": "stream",
     "text": [
      "0.29658634921561433\n"
     ]
    }
   ],
   "source": [
    "# Effect of change from 3rd to 1st class\n",
    "effect_of_class_change = probability_of_survival_first_class - probability_of_survival\n",
    "\n",
    "(probability_of_survival_first_class, effect_of_class_change)\n",
    "print(effect_of_class_change)"
   ]
  },
  {
   "cell_type": "markdown",
   "metadata": {},
   "source": [
    "## Part D"
   ]
  },
  {
   "cell_type": "code",
   "execution_count": 63,
   "metadata": {},
   "outputs": [],
   "source": [
    "# Probit model coefficients from part a\n",
    "beta_const = 2.8693\n",
    "beta_pclass = -0.7206\n",
    "beta_sex = -1.4838\n",
    "beta_age = -0.0203"
   ]
  },
  {
   "cell_type": "code",
   "execution_count": 64,
   "metadata": {},
   "outputs": [],
   "source": [
    "# Covariance matrix of the coefficients from the Probit model\n",
    "cov_matrix = probit_result.cov_params().to_numpy()"
   ]
  },
  {
   "cell_type": "code",
   "execution_count": 65,
   "metadata": {},
   "outputs": [],
   "source": [
    "# Attributes for a 55-year-old man\n",
    "age = 55\n",
    "sex = 1"
   ]
  },
  {
   "cell_type": "code",
   "execution_count": 66,
   "metadata": {},
   "outputs": [],
   "source": [
    "# Define partial derivatives for the probabilities\n",
    "def compute_gradient(pclass, beta_const, beta_pclass, beta_sex, beta_age):\n",
    "    # Linear combination for the latent variable\n",
    "    linear_combination = beta_const + beta_pclass * pclass + beta_sex * sex + beta_age * age\n",
    "\n",
    "    # Compute the PDF of the standard normal distribution at the linear combination\n",
    "    phi = norm.pdf(linear_combination)\n",
    "\n",
    "    # Compute the gradient (partial derivatives w.r.t each coefficient)\n",
    "    gradient = np.array([\n",
    "        phi,                    # Partial derivative w.r.t beta_const\n",
    "        phi * pclass,           # Partial derivative w.r.t beta_pclass\n",
    "        phi * sex,              # Partial derivative w.r.t beta_sex\n",
    "        phi * age               # Partial derivative w.r.t beta_age\n",
    "    ])\n",
    "    return gradient"
   ]
  },
  {
   "cell_type": "code",
   "execution_count": 67,
   "metadata": {},
   "outputs": [],
   "source": [
    "# Compute the gradient for 1st class and 3rd class\n",
    "gradient_1st_class = compute_gradient(1, beta_const, beta_pclass, beta_sex, beta_age)\n",
    "gradient_3rd_class = compute_gradient(3, beta_const, beta_pclass, beta_sex, beta_age)"
   ]
  },
  {
   "cell_type": "code",
   "execution_count": 68,
   "metadata": {},
   "outputs": [],
   "source": [
    "# Compute the difference in gradients\n",
    "gradient_difference = gradient_1st_class - gradient_3rd_class"
   ]
  },
  {
   "cell_type": "code",
   "execution_count": 69,
   "metadata": {},
   "outputs": [],
   "source": [
    "# Delta Method: Compute the variance of the effect\n",
    "variance_delta_p = gradient_difference.T @ cov_matrix @ gradient_difference"
   ]
  },
  {
   "cell_type": "code",
   "execution_count": 70,
   "metadata": {},
   "outputs": [],
   "source": [
    "\n",
    "# Standard error of the effect\n",
    "std_error_delta_p = np.sqrt(variance_delta_p)"
   ]
  },
  {
   "cell_type": "code",
   "execution_count": 71,
   "metadata": {},
   "outputs": [
    {
     "name": "stdout",
     "output_type": "stream",
     "text": [
      "Standard Error of the Effect (Delta Method): 0.040779280942521055\n"
     ]
    }
   ],
   "source": [
    "# Print the result\n",
    "print(f\"Standard Error of the Effect (Delta Method): {std_error_delta_p}\")"
   ]
  },
  {
   "cell_type": "markdown",
   "metadata": {},
   "source": [
    "## Question 1 ##"
   ]
  },
  {
   "cell_type": "markdown",
   "metadata": {},
   "source": [
    "# Part D #"
   ]
  },
  {
   "cell_type": "code",
   "execution_count": 72,
   "metadata": {},
   "outputs": [],
   "source": [
    "# Import the file\n",
    "data_SP = pd.read_excel('SP500Index.xlsx')"
   ]
  },
  {
   "cell_type": "code",
   "execution_count": 73,
   "metadata": {},
   "outputs": [
    {
     "data": {
      "text/html": [
       "<div>\n",
       "<style scoped>\n",
       "    .dataframe tbody tr th:only-of-type {\n",
       "        vertical-align: middle;\n",
       "    }\n",
       "\n",
       "    .dataframe tbody tr th {\n",
       "        vertical-align: top;\n",
       "    }\n",
       "\n",
       "    .dataframe thead th {\n",
       "        text-align: right;\n",
       "    }\n",
       "</style>\n",
       "<table border=\"1\" class=\"dataframe\">\n",
       "  <thead>\n",
       "    <tr style=\"text-align: right;\">\n",
       "      <th></th>\n",
       "      <th>Date of Observation</th>\n",
       "      <th>Level of the S&amp;P 500 Index</th>\n",
       "    </tr>\n",
       "  </thead>\n",
       "  <tbody>\n",
       "    <tr>\n",
       "      <th>0</th>\n",
       "      <td>19600129</td>\n",
       "      <td>55.61</td>\n",
       "    </tr>\n",
       "    <tr>\n",
       "      <th>1</th>\n",
       "      <td>19600229</td>\n",
       "      <td>56.12</td>\n",
       "    </tr>\n",
       "    <tr>\n",
       "      <th>2</th>\n",
       "      <td>19600331</td>\n",
       "      <td>55.34</td>\n",
       "    </tr>\n",
       "    <tr>\n",
       "      <th>3</th>\n",
       "      <td>19600429</td>\n",
       "      <td>54.37</td>\n",
       "    </tr>\n",
       "    <tr>\n",
       "      <th>4</th>\n",
       "      <td>19600531</td>\n",
       "      <td>55.83</td>\n",
       "    </tr>\n",
       "  </tbody>\n",
       "</table>\n",
       "</div>"
      ],
      "text/plain": [
       "   Date of Observation  Level of the S&P 500 Index\n",
       "0             19600129                       55.61\n",
       "1             19600229                       56.12\n",
       "2             19600331                       55.34\n",
       "3             19600429                       54.37\n",
       "4             19600531                       55.83"
      ]
     },
     "execution_count": 73,
     "metadata": {},
     "output_type": "execute_result"
    }
   ],
   "source": [
    "data_SP.head()"
   ]
  },
  {
   "cell_type": "code",
   "execution_count": 74,
   "metadata": {},
   "outputs": [
    {
     "data": {
      "text/html": [
       "<div>\n",
       "<style scoped>\n",
       "    .dataframe tbody tr th:only-of-type {\n",
       "        vertical-align: middle;\n",
       "    }\n",
       "\n",
       "    .dataframe tbody tr th {\n",
       "        vertical-align: top;\n",
       "    }\n",
       "\n",
       "    .dataframe thead th {\n",
       "        text-align: right;\n",
       "    }\n",
       "</style>\n",
       "<table border=\"1\" class=\"dataframe\">\n",
       "  <thead>\n",
       "    <tr style=\"text-align: right;\">\n",
       "      <th></th>\n",
       "      <th>Date of Observation</th>\n",
       "      <th>Level of the S&amp;P 500 Index</th>\n",
       "      <th>Date</th>\n",
       "    </tr>\n",
       "  </thead>\n",
       "  <tbody>\n",
       "    <tr>\n",
       "      <th>0</th>\n",
       "      <td>19600129</td>\n",
       "      <td>55.61</td>\n",
       "      <td>19600129</td>\n",
       "    </tr>\n",
       "    <tr>\n",
       "      <th>1</th>\n",
       "      <td>19600229</td>\n",
       "      <td>56.12</td>\n",
       "      <td>19600229</td>\n",
       "    </tr>\n",
       "    <tr>\n",
       "      <th>2</th>\n",
       "      <td>19600331</td>\n",
       "      <td>55.34</td>\n",
       "      <td>19600331</td>\n",
       "    </tr>\n",
       "    <tr>\n",
       "      <th>3</th>\n",
       "      <td>19600429</td>\n",
       "      <td>54.37</td>\n",
       "      <td>19600429</td>\n",
       "    </tr>\n",
       "    <tr>\n",
       "      <th>4</th>\n",
       "      <td>19600531</td>\n",
       "      <td>55.83</td>\n",
       "      <td>19600531</td>\n",
       "    </tr>\n",
       "  </tbody>\n",
       "</table>\n",
       "</div>"
      ],
      "text/plain": [
       "   Date of Observation  Level of the S&P 500 Index      Date\n",
       "0             19600129                       55.61  19600129\n",
       "1             19600229                       56.12  19600229\n",
       "2             19600331                       55.34  19600331\n",
       "3             19600429                       54.37  19600429\n",
       "4             19600531                       55.83  19600531"
      ]
     },
     "execution_count": 74,
     "metadata": {},
     "output_type": "execute_result"
    }
   ],
   "source": [
    "data_SP['Date']=data_SP['Date of Observation'].astype(str)\n",
    "data_SP.head()"
   ]
  },
  {
   "cell_type": "code",
   "execution_count": 75,
   "metadata": {},
   "outputs": [
    {
     "name": "stdout",
     "output_type": "stream",
     "text": [
      "55.61\n"
     ]
    }
   ],
   "source": [
    "# Identify SP_0 (January 1960)\n",
    "SP0 = data_SP.loc[data_SP['Date'].str.startswith(\"196001\"), 'Level of the S&P 500 Index'].iloc[0]\n",
    "print(SP0)"
   ]
  },
  {
   "cell_type": "code",
   "execution_count": 76,
   "metadata": {},
   "outputs": [],
   "source": [
    "# Calculate x_t = log(SP_t / SP_0)\n",
    "data_SP['x_t'] = np.log(data_SP['Level of the S&P 500 Index'] / SP0)"
   ]
  },
  {
   "cell_type": "code",
   "execution_count": 77,
   "metadata": {},
   "outputs": [],
   "source": [
    "# Define the log-likelihood function\n",
    "def log_likelihood(params, x_t):\n",
    "    delta, sigma2 = params  # Parameters to estimate\n",
    "    T = len(x_t)\n",
    "    residuals = x_t[1:] - delta - x_t[:-1]  # Differences x_t - delta - x_{t-1}\n",
    "    logL = -0.5 * T * np.log(2 * np.pi * sigma2) - (1 / (2 * sigma2)) * np.sum(residuals**2)\n",
    "    return -logL  # Negate for minimization\n"
   ]
  },
  {
   "cell_type": "code",
   "execution_count": 78,
   "metadata": {},
   "outputs": [],
   "source": [
    "# Optimize to find MLEs\n",
    "x_t = data_SP['x_t'].to_numpy()  # Convert x_t to a NumPy array\n",
    "initial_guess = [0, 1]  # Initial guesses for delta and sigma^2\n",
    "result = minimize(log_likelihood, initial_guess, args=(x_t,), bounds=[(None, None), (1e-6, None)])\n",
    "\n"
   ]
  },
  {
   "cell_type": "code",
   "execution_count": 79,
   "metadata": {},
   "outputs": [
    {
     "name": "stdout",
     "output_type": "stream",
     "text": [
      "MLE for delta: 0.0055483897567819365\n",
      "MLE for sigma^2: 0.0017766419802605514\n",
      "Standard deviation (sigma): 0.04215023108193538\n"
     ]
    }
   ],
   "source": [
    "# Extract MLEs\n",
    "delta_MLE, sigma2_MLE = result.x\n",
    "print(f\"MLE for delta: {delta_MLE}\")\n",
    "print(f\"MLE for sigma^2: {sigma2_MLE}\")\n",
    "\n",
    "# Step 6: Interpret results\n",
    "sigma_MLE = np.sqrt(sigma2_MLE)  # Standard deviation\n",
    "print(f\"Standard deviation (sigma): {sigma_MLE}\")"
   ]
  },
  {
   "cell_type": "markdown",
   "metadata": {},
   "source": [
    "## Question 5 ##"
   ]
  },
  {
   "cell_type": "markdown",
   "metadata": {},
   "source": [
    "## Part a ##"
   ]
  },
  {
   "cell_type": "code",
   "execution_count": 80,
   "metadata": {},
   "outputs": [],
   "source": [
    "# Import the Hall data file - PS4Data #\n",
    "data_H = pd.read_excel('PS4data.xls')"
   ]
  },
  {
   "cell_type": "code",
   "execution_count": 81,
   "metadata": {},
   "outputs": [
    {
     "data": {
      "text/html": [
       "<div>\n",
       "<style scoped>\n",
       "    .dataframe tbody tr th:only-of-type {\n",
       "        vertical-align: middle;\n",
       "    }\n",
       "\n",
       "    .dataframe tbody tr th {\n",
       "        vertical-align: top;\n",
       "    }\n",
       "\n",
       "    .dataframe thead th {\n",
       "        text-align: right;\n",
       "    }\n",
       "</style>\n",
       "<table border=\"1\" class=\"dataframe\">\n",
       "  <thead>\n",
       "    <tr style=\"text-align: right;\">\n",
       "      <th></th>\n",
       "      <th>year</th>\n",
       "      <th>quarter</th>\n",
       "      <th>real consumption of nondurables</th>\n",
       "      <th>real consumption of services</th>\n",
       "      <th>cpi</th>\n",
       "      <th>real disposable income</th>\n",
       "      <th>population</th>\n",
       "      <th>equally weighted average return on the New York Stock Exchange</th>\n",
       "    </tr>\n",
       "  </thead>\n",
       "  <tbody>\n",
       "    <tr>\n",
       "      <th>0</th>\n",
       "      <td>1948</td>\n",
       "      <td>1</td>\n",
       "      <td>442.3</td>\n",
       "      <td>463.8</td>\n",
       "      <td>23.533333</td>\n",
       "      <td>1055.3</td>\n",
       "      <td>102690.67</td>\n",
       "      <td>0.01414</td>\n",
       "    </tr>\n",
       "    <tr>\n",
       "      <th>1</th>\n",
       "      <td>1948</td>\n",
       "      <td>2</td>\n",
       "      <td>446.9</td>\n",
       "      <td>470.5</td>\n",
       "      <td>23.933333</td>\n",
       "      <td>1087.7</td>\n",
       "      <td>102915.33</td>\n",
       "      <td>0.11755</td>\n",
       "    </tr>\n",
       "    <tr>\n",
       "      <th>2</th>\n",
       "      <td>1948</td>\n",
       "      <td>3</td>\n",
       "      <td>443.3</td>\n",
       "      <td>476.6</td>\n",
       "      <td>24.466667</td>\n",
       "      <td>1107.1</td>\n",
       "      <td>103249.00</td>\n",
       "      <td>-0.09565</td>\n",
       "    </tr>\n",
       "    <tr>\n",
       "      <th>3</th>\n",
       "      <td>1948</td>\n",
       "      <td>4</td>\n",
       "      <td>449.6</td>\n",
       "      <td>480.2</td>\n",
       "      <td>24.233333</td>\n",
       "      <td>1109.8</td>\n",
       "      <td>103417.67</td>\n",
       "      <td>-0.04563</td>\n",
       "    </tr>\n",
       "    <tr>\n",
       "      <th>4</th>\n",
       "      <td>1949</td>\n",
       "      <td>1</td>\n",
       "      <td>451.8</td>\n",
       "      <td>482.6</td>\n",
       "      <td>23.866667</td>\n",
       "      <td>1087.8</td>\n",
       "      <td>103584.33</td>\n",
       "      <td>0.03338</td>\n",
       "    </tr>\n",
       "  </tbody>\n",
       "</table>\n",
       "</div>"
      ],
      "text/plain": [
       "   year  quarter  real consumption of nondurables  \\\n",
       "0  1948        1                            442.3   \n",
       "1  1948        2                            446.9   \n",
       "2  1948        3                            443.3   \n",
       "3  1948        4                            449.6   \n",
       "4  1949        1                            451.8   \n",
       "\n",
       "   real consumption of services        cpi  real disposable income  \\\n",
       "0                         463.8  23.533333                  1055.3   \n",
       "1                         470.5  23.933333                  1087.7   \n",
       "2                         476.6  24.466667                  1107.1   \n",
       "3                         480.2  24.233333                  1109.8   \n",
       "4                         482.6  23.866667                  1087.8   \n",
       "\n",
       "   population  equally weighted average return on the New York Stock Exchange  \n",
       "0   102690.67                                            0.01414               \n",
       "1   102915.33                                            0.11755               \n",
       "2   103249.00                                           -0.09565               \n",
       "3   103417.67                                           -0.04563               \n",
       "4   103584.33                                            0.03338               "
      ]
     },
     "execution_count": 81,
     "metadata": {},
     "output_type": "execute_result"
    }
   ],
   "source": [
    "# Check the imported data #\n",
    "data_H.head()"
   ]
  },
  {
   "cell_type": "code",
   "execution_count": 82,
   "metadata": {},
   "outputs": [],
   "source": [
    "# Adding required columns #\n",
    "data_H['consum nondurable per capita'] = data_H['real consumption of nondurables'] / data_H['population']\n",
    "data_H['consump services per capita'] = data_H['real consumption of services'] / data_H['population']"
   ]
  },
  {
   "cell_type": "code",
   "execution_count": 83,
   "metadata": {},
   "outputs": [],
   "source": [
    "data_H['consumption'] = data_H['consum nondurable per capita'] + data_H['consump services per capita']"
   ]
  },
  {
   "cell_type": "code",
   "execution_count": 84,
   "metadata": {},
   "outputs": [
    {
     "data": {
      "text/html": [
       "<div>\n",
       "<style scoped>\n",
       "    .dataframe tbody tr th:only-of-type {\n",
       "        vertical-align: middle;\n",
       "    }\n",
       "\n",
       "    .dataframe tbody tr th {\n",
       "        vertical-align: top;\n",
       "    }\n",
       "\n",
       "    .dataframe thead th {\n",
       "        text-align: right;\n",
       "    }\n",
       "</style>\n",
       "<table border=\"1\" class=\"dataframe\">\n",
       "  <thead>\n",
       "    <tr style=\"text-align: right;\">\n",
       "      <th></th>\n",
       "      <th>year</th>\n",
       "      <th>quarter</th>\n",
       "      <th>real consumption of nondurables</th>\n",
       "      <th>real consumption of services</th>\n",
       "      <th>cpi</th>\n",
       "      <th>real disposable income</th>\n",
       "      <th>population</th>\n",
       "      <th>equally weighted average return on the New York Stock Exchange</th>\n",
       "      <th>consum nondurable per capita</th>\n",
       "      <th>consump services per capita</th>\n",
       "      <th>consumption</th>\n",
       "    </tr>\n",
       "  </thead>\n",
       "  <tbody>\n",
       "    <tr>\n",
       "      <th>0</th>\n",
       "      <td>1948</td>\n",
       "      <td>1</td>\n",
       "      <td>442.3</td>\n",
       "      <td>463.8</td>\n",
       "      <td>23.533333</td>\n",
       "      <td>1055.3</td>\n",
       "      <td>102690.67</td>\n",
       "      <td>0.01414</td>\n",
       "      <td>0.004307</td>\n",
       "      <td>0.004516</td>\n",
       "      <td>0.008824</td>\n",
       "    </tr>\n",
       "    <tr>\n",
       "      <th>1</th>\n",
       "      <td>1948</td>\n",
       "      <td>2</td>\n",
       "      <td>446.9</td>\n",
       "      <td>470.5</td>\n",
       "      <td>23.933333</td>\n",
       "      <td>1087.7</td>\n",
       "      <td>102915.33</td>\n",
       "      <td>0.11755</td>\n",
       "      <td>0.004342</td>\n",
       "      <td>0.004572</td>\n",
       "      <td>0.008914</td>\n",
       "    </tr>\n",
       "    <tr>\n",
       "      <th>2</th>\n",
       "      <td>1948</td>\n",
       "      <td>3</td>\n",
       "      <td>443.3</td>\n",
       "      <td>476.6</td>\n",
       "      <td>24.466667</td>\n",
       "      <td>1107.1</td>\n",
       "      <td>103249.00</td>\n",
       "      <td>-0.09565</td>\n",
       "      <td>0.004294</td>\n",
       "      <td>0.004616</td>\n",
       "      <td>0.008910</td>\n",
       "    </tr>\n",
       "    <tr>\n",
       "      <th>3</th>\n",
       "      <td>1948</td>\n",
       "      <td>4</td>\n",
       "      <td>449.6</td>\n",
       "      <td>480.2</td>\n",
       "      <td>24.233333</td>\n",
       "      <td>1109.8</td>\n",
       "      <td>103417.67</td>\n",
       "      <td>-0.04563</td>\n",
       "      <td>0.004347</td>\n",
       "      <td>0.004643</td>\n",
       "      <td>0.008991</td>\n",
       "    </tr>\n",
       "    <tr>\n",
       "      <th>4</th>\n",
       "      <td>1949</td>\n",
       "      <td>1</td>\n",
       "      <td>451.8</td>\n",
       "      <td>482.6</td>\n",
       "      <td>23.866667</td>\n",
       "      <td>1087.8</td>\n",
       "      <td>103584.33</td>\n",
       "      <td>0.03338</td>\n",
       "      <td>0.004362</td>\n",
       "      <td>0.004659</td>\n",
       "      <td>0.009021</td>\n",
       "    </tr>\n",
       "  </tbody>\n",
       "</table>\n",
       "</div>"
      ],
      "text/plain": [
       "   year  quarter  real consumption of nondurables  \\\n",
       "0  1948        1                            442.3   \n",
       "1  1948        2                            446.9   \n",
       "2  1948        3                            443.3   \n",
       "3  1948        4                            449.6   \n",
       "4  1949        1                            451.8   \n",
       "\n",
       "   real consumption of services        cpi  real disposable income  \\\n",
       "0                         463.8  23.533333                  1055.3   \n",
       "1                         470.5  23.933333                  1087.7   \n",
       "2                         476.6  24.466667                  1107.1   \n",
       "3                         480.2  24.233333                  1109.8   \n",
       "4                         482.6  23.866667                  1087.8   \n",
       "\n",
       "   population  equally weighted average return on the New York Stock Exchange  \\\n",
       "0   102690.67                                            0.01414                \n",
       "1   102915.33                                            0.11755                \n",
       "2   103249.00                                           -0.09565                \n",
       "3   103417.67                                           -0.04563                \n",
       "4   103584.33                                            0.03338                \n",
       "\n",
       "   consum nondurable per capita  consump services per capita  consumption  \n",
       "0                      0.004307                     0.004516     0.008824  \n",
       "1                      0.004342                     0.004572     0.008914  \n",
       "2                      0.004294                     0.004616     0.008910  \n",
       "3                      0.004347                     0.004643     0.008991  \n",
       "4                      0.004362                     0.004659     0.009021  "
      ]
     },
     "execution_count": 84,
     "metadata": {},
     "output_type": "execute_result"
    }
   ],
   "source": [
    "data_H.head()"
   ]
  },
  {
   "cell_type": "code",
   "execution_count": 85,
   "metadata": {},
   "outputs": [],
   "source": [
    "# Create lagged consumption variables (Ct-1, Ct-2, Ct-3, Ct-4)\n",
    "data_H['Ct-1'] = data_H['consumption'].shift(1)\n",
    "data_H['Ct-2'] = data_H['consumption'].shift(2)\n",
    "data_H['Ct-3'] = data_H['consumption'].shift(3)\n",
    "data_H['Ct-4'] = data_H['consumption'].shift(4)"
   ]
  },
  {
   "cell_type": "code",
   "execution_count": 86,
   "metadata": {},
   "outputs": [],
   "source": [
    "# Drop na\n",
    "data_H = data_H.dropna()"
   ]
  },
  {
   "cell_type": "code",
   "execution_count": 87,
   "metadata": {},
   "outputs": [],
   "source": [
    "# Run the regression\n",
    "X = data_H[['Ct-1', 'Ct-2', 'Ct-3', 'Ct-4']]\n",
    "Y = data_H['consumption']\n",
    "\n",
    "# Add a constant\n",
    "X = sm.add_constant(X)"
   ]
  },
  {
   "cell_type": "code",
   "execution_count": 88,
   "metadata": {},
   "outputs": [
    {
     "name": "stdout",
     "output_type": "stream",
     "text": [
      "                            OLS Regression Results                            \n",
      "==============================================================================\n",
      "Dep. Variable:            consumption   R-squared:                       1.000\n",
      "Model:                            OLS   Adj. R-squared:                  1.000\n",
      "Method:                 Least Squares   F-statistic:                 2.094e+05\n",
      "Date:                Wed, 20 Nov 2024   Prob (F-statistic):               0.00\n",
      "Time:                        16:34:27   Log-Likelihood:                 1745.1\n",
      "No. Observations:                 216   AIC:                            -3480.\n",
      "Df Residuals:                     211   BIC:                            -3463.\n",
      "Df Model:                           4                                         \n",
      "Covariance Type:            nonrobust                                         \n",
      "==============================================================================\n",
      "                 coef    std err          t      P>|t|      [0.025      0.975]\n",
      "------------------------------------------------------------------------------\n",
      "const       2.439e-05   1.92e-05      1.267      0.207   -1.36e-05    6.23e-05\n",
      "Ct-1           1.1923      0.067     17.696      0.000       1.060       1.325\n",
      "Ct-2          -0.1281      0.106     -1.212      0.227      -0.336       0.080\n",
      "Ct-3           0.1443      0.105      1.368      0.173      -0.064       0.352\n",
      "Ct-4          -0.2075      0.068     -3.072      0.002      -0.341      -0.074\n",
      "==============================================================================\n",
      "Omnibus:                       10.879   Durbin-Watson:                   1.984\n",
      "Prob(Omnibus):                  0.004   Jarque-Bera (JB):               12.919\n",
      "Skew:                          -0.406   Prob(JB):                      0.00157\n",
      "Kurtosis:                       3.881   Cond. No.                     2.71e+04\n",
      "==============================================================================\n",
      "\n",
      "Notes:\n",
      "[1] Standard Errors assume that the covariance matrix of the errors is correctly specified.\n",
      "[2] The condition number is large, 2.71e+04. This might indicate that there are\n",
      "strong multicollinearity or other numerical problems.\n"
     ]
    }
   ],
   "source": [
    "# Fit the regression model\n",
    "model = sm.OLS(Y, X).fit()\n",
    "\n",
    "# Print the summary of the regression\n",
    "print(model.summary())"
   ]
  },
  {
   "cell_type": "code",
   "execution_count": 89,
   "metadata": {},
   "outputs": [
    {
     "name": "stdout",
     "output_type": "stream",
     "text": [
      "<F test: F=8.409996895528458, p=2.6364145736178056e-05, df_denom=211, df_num=3>\n"
     ]
    }
   ],
   "source": [
    "# Run F test to test the hypothesis\n",
    "\n",
    "# Hypothesis\n",
    "hypothesis = 'Ct-2 = Ct-3 = Ct-4 = 0'\n",
    "f_test = model.f_test(hypothesis)\n",
    "print(f_test)"
   ]
  },
  {
   "cell_type": "markdown",
   "metadata": {},
   "source": [
    "## Part c ##"
   ]
  },
  {
   "cell_type": "code",
   "execution_count": 90,
   "metadata": {},
   "outputs": [
    {
     "data": {
      "text/html": [
       "<div>\n",
       "<style scoped>\n",
       "    .dataframe tbody tr th:only-of-type {\n",
       "        vertical-align: middle;\n",
       "    }\n",
       "\n",
       "    .dataframe tbody tr th {\n",
       "        vertical-align: top;\n",
       "    }\n",
       "\n",
       "    .dataframe thead th {\n",
       "        text-align: right;\n",
       "    }\n",
       "</style>\n",
       "<table border=\"1\" class=\"dataframe\">\n",
       "  <thead>\n",
       "    <tr style=\"text-align: right;\">\n",
       "      <th></th>\n",
       "      <th>year</th>\n",
       "      <th>quarter</th>\n",
       "      <th>real consumption of nondurables</th>\n",
       "      <th>real consumption of services</th>\n",
       "      <th>cpi</th>\n",
       "      <th>real disposable income</th>\n",
       "      <th>population</th>\n",
       "      <th>equally weighted average return on the New York Stock Exchange</th>\n",
       "      <th>income per capita</th>\n",
       "      <th>consum nondurable per capita</th>\n",
       "      <th>consump services per capita</th>\n",
       "      <th>consumption</th>\n",
       "      <th>ln_income</th>\n",
       "      <th>ln_consumption</th>\n",
       "      <th>log(Ct/Ct-1)</th>\n",
       "      <th>log(Ct-2/Ct-3)</th>\n",
       "      <th>log(Ct-3/Ct-4)</th>\n",
       "      <th>log(Ct-4/Ct-5)</th>\n",
       "      <th>log(Ct-5/Ct-6)</th>\n",
       "      <th>log(Yt/Yt-1)</th>\n",
       "    </tr>\n",
       "  </thead>\n",
       "  <tbody>\n",
       "    <tr>\n",
       "      <th>0</th>\n",
       "      <td>1948</td>\n",
       "      <td>1</td>\n",
       "      <td>442.3</td>\n",
       "      <td>463.8</td>\n",
       "      <td>23.533333</td>\n",
       "      <td>1055.3</td>\n",
       "      <td>102690.67</td>\n",
       "      <td>0.01414</td>\n",
       "      <td>0.010276</td>\n",
       "      <td>0.004307</td>\n",
       "      <td>0.004516</td>\n",
       "      <td>0.008824</td>\n",
       "      <td>-4.577896</td>\n",
       "      <td>-4.730327</td>\n",
       "      <td>NaN</td>\n",
       "      <td>NaN</td>\n",
       "      <td>NaN</td>\n",
       "      <td>NaN</td>\n",
       "      <td>NaN</td>\n",
       "      <td>NaN</td>\n",
       "    </tr>\n",
       "    <tr>\n",
       "      <th>1</th>\n",
       "      <td>1948</td>\n",
       "      <td>2</td>\n",
       "      <td>446.9</td>\n",
       "      <td>470.5</td>\n",
       "      <td>23.933333</td>\n",
       "      <td>1087.7</td>\n",
       "      <td>102915.33</td>\n",
       "      <td>0.11755</td>\n",
       "      <td>0.010569</td>\n",
       "      <td>0.004342</td>\n",
       "      <td>0.004572</td>\n",
       "      <td>0.008914</td>\n",
       "      <td>-4.549841</td>\n",
       "      <td>-4.720118</td>\n",
       "      <td>0.010209</td>\n",
       "      <td>NaN</td>\n",
       "      <td>NaN</td>\n",
       "      <td>NaN</td>\n",
       "      <td>NaN</td>\n",
       "      <td>0.028055</td>\n",
       "    </tr>\n",
       "    <tr>\n",
       "      <th>2</th>\n",
       "      <td>1948</td>\n",
       "      <td>3</td>\n",
       "      <td>443.3</td>\n",
       "      <td>476.6</td>\n",
       "      <td>24.466667</td>\n",
       "      <td>1107.1</td>\n",
       "      <td>103249.00</td>\n",
       "      <td>-0.09565</td>\n",
       "      <td>0.010723</td>\n",
       "      <td>0.004294</td>\n",
       "      <td>0.004616</td>\n",
       "      <td>0.008910</td>\n",
       "      <td>-4.535400</td>\n",
       "      <td>-4.720634</td>\n",
       "      <td>-0.000516</td>\n",
       "      <td>NaN</td>\n",
       "      <td>NaN</td>\n",
       "      <td>NaN</td>\n",
       "      <td>NaN</td>\n",
       "      <td>0.014442</td>\n",
       "    </tr>\n",
       "    <tr>\n",
       "      <th>3</th>\n",
       "      <td>1948</td>\n",
       "      <td>4</td>\n",
       "      <td>449.6</td>\n",
       "      <td>480.2</td>\n",
       "      <td>24.233333</td>\n",
       "      <td>1109.8</td>\n",
       "      <td>103417.67</td>\n",
       "      <td>-0.04563</td>\n",
       "      <td>0.010731</td>\n",
       "      <td>0.004347</td>\n",
       "      <td>0.004643</td>\n",
       "      <td>0.008991</td>\n",
       "      <td>-4.534596</td>\n",
       "      <td>-4.711562</td>\n",
       "      <td>0.009072</td>\n",
       "      <td>0.010209</td>\n",
       "      <td>NaN</td>\n",
       "      <td>NaN</td>\n",
       "      <td>NaN</td>\n",
       "      <td>0.000804</td>\n",
       "    </tr>\n",
       "    <tr>\n",
       "      <th>4</th>\n",
       "      <td>1949</td>\n",
       "      <td>1</td>\n",
       "      <td>451.8</td>\n",
       "      <td>482.6</td>\n",
       "      <td>23.866667</td>\n",
       "      <td>1087.8</td>\n",
       "      <td>103584.33</td>\n",
       "      <td>0.03338</td>\n",
       "      <td>0.010502</td>\n",
       "      <td>0.004362</td>\n",
       "      <td>0.004659</td>\n",
       "      <td>0.009021</td>\n",
       "      <td>-4.556229</td>\n",
       "      <td>-4.708237</td>\n",
       "      <td>0.003325</td>\n",
       "      <td>-0.000516</td>\n",
       "      <td>0.010209</td>\n",
       "      <td>NaN</td>\n",
       "      <td>NaN</td>\n",
       "      <td>-0.021633</td>\n",
       "    </tr>\n",
       "  </tbody>\n",
       "</table>\n",
       "</div>"
      ],
      "text/plain": [
       "   year  quarter  real consumption of nondurables  \\\n",
       "0  1948        1                            442.3   \n",
       "1  1948        2                            446.9   \n",
       "2  1948        3                            443.3   \n",
       "3  1948        4                            449.6   \n",
       "4  1949        1                            451.8   \n",
       "\n",
       "   real consumption of services        cpi  real disposable income  \\\n",
       "0                         463.8  23.533333                  1055.3   \n",
       "1                         470.5  23.933333                  1087.7   \n",
       "2                         476.6  24.466667                  1107.1   \n",
       "3                         480.2  24.233333                  1109.8   \n",
       "4                         482.6  23.866667                  1087.8   \n",
       "\n",
       "   population  equally weighted average return on the New York Stock Exchange  \\\n",
       "0   102690.67                                            0.01414                \n",
       "1   102915.33                                            0.11755                \n",
       "2   103249.00                                           -0.09565                \n",
       "3   103417.67                                           -0.04563                \n",
       "4   103584.33                                            0.03338                \n",
       "\n",
       "   income per capita  consum nondurable per capita  \\\n",
       "0           0.010276                      0.004307   \n",
       "1           0.010569                      0.004342   \n",
       "2           0.010723                      0.004294   \n",
       "3           0.010731                      0.004347   \n",
       "4           0.010502                      0.004362   \n",
       "\n",
       "   consump services per capita  consumption  ln_income  ln_consumption  \\\n",
       "0                     0.004516     0.008824  -4.577896       -4.730327   \n",
       "1                     0.004572     0.008914  -4.549841       -4.720118   \n",
       "2                     0.004616     0.008910  -4.535400       -4.720634   \n",
       "3                     0.004643     0.008991  -4.534596       -4.711562   \n",
       "4                     0.004659     0.009021  -4.556229       -4.708237   \n",
       "\n",
       "   log(Ct/Ct-1)  log(Ct-2/Ct-3)  log(Ct-3/Ct-4)  log(Ct-4/Ct-5)  \\\n",
       "0           NaN             NaN             NaN             NaN   \n",
       "1      0.010209             NaN             NaN             NaN   \n",
       "2     -0.000516             NaN             NaN             NaN   \n",
       "3      0.009072        0.010209             NaN             NaN   \n",
       "4      0.003325       -0.000516        0.010209             NaN   \n",
       "\n",
       "   log(Ct-5/Ct-6)  log(Yt/Yt-1)  \n",
       "0             NaN           NaN  \n",
       "1             NaN      0.028055  \n",
       "2             NaN      0.014442  \n",
       "3             NaN      0.000804  \n",
       "4             NaN     -0.021633  "
      ]
     },
     "execution_count": 90,
     "metadata": {},
     "output_type": "execute_result"
    }
   ],
   "source": [
    "# Import the Hall data file - PS4Data #\n",
    "data_H2 = pd.read_excel('PS4data.xls')\n",
    "\n",
    "# Create disposable income measure and consumption\n",
    "data_H2['income per capita'] = data_H2['real disposable income'] / data_H2['population']\n",
    "data_H2['consum nondurable per capita'] = data_H2['real consumption of nondurables'] / data_H2['population']\n",
    "data_H2['consump services per capita'] = data_H2['real consumption of services'] / data_H2['population']\n",
    "data_H2['consumption'] = data_H2['consum nondurable per capita'] + data_H2['consump services per capita']\n",
    "\n",
    "# Create log variables\n",
    "data_H2['ln_income'] = np.log(data_H2['income per capita'])\n",
    "data_H2['ln_consumption'] = np.log(data_H2['consumption'])\n",
    "\n",
    "# Create lagged variables\n",
    "data_H2['log(Ct/Ct-1)'] = data_H2['ln_consumption'] - data_H2['ln_consumption'].shift(1)\n",
    "data_H2['log(Ct-2/Ct-3)'] = data_H2['ln_consumption'].shift(2) - data_H2['ln_consumption'].shift(3)\n",
    "data_H2['log(Ct-3/Ct-4)'] = data_H2['ln_consumption'].shift(3) - data_H2['ln_consumption'].shift(4)\n",
    "data_H2['log(Ct-4/Ct-5)'] = data_H2['ln_consumption'].shift(4) - data_H2['ln_consumption'].shift(5)\n",
    "data_H2['log(Ct-5/Ct-6)'] = data_H2['ln_consumption'].shift(5) - data_H2['ln_consumption'].shift(6)\n",
    "\n",
    "data_H2['log(Yt/Yt-1)'] = data_H2['ln_income'] - data_H2['ln_income'].shift(1)\n",
    "\n",
    "# Show data\n",
    "data_H2.head()\n"
   ]
  },
  {
   "cell_type": "code",
   "execution_count": 91,
   "metadata": {},
   "outputs": [],
   "source": [
    "# Drop rows with NaN caused by lagging\n",
    "data_H2 = data_H2.dropna()\n",
    "\n"
   ]
  },
  {
   "cell_type": "code",
   "execution_count": 92,
   "metadata": {},
   "outputs": [
    {
     "name": "stdout",
     "output_type": "stream",
     "text": [
      "                            OLS Regression Results                            \n",
      "==============================================================================\n",
      "Dep. Variable:           log(Yt/Yt-1)   R-squared:                       0.046\n",
      "Model:                            OLS   Adj. R-squared:                  0.028\n",
      "Method:                 Least Squares   F-statistic:                     2.509\n",
      "Date:                Wed, 20 Nov 2024   Prob (F-statistic):             0.0430\n",
      "Time:                        16:34:27   Log-Likelihood:                 687.27\n",
      "No. Observations:                 214   AIC:                            -1365.\n",
      "Df Residuals:                     209   BIC:                            -1348.\n",
      "Df Model:                           4                                         \n",
      "Covariance Type:            nonrobust                                         \n",
      "==================================================================================\n",
      "                     coef    std err          t      P>|t|      [0.025      0.975]\n",
      "----------------------------------------------------------------------------------\n",
      "const              0.0040      0.001      3.271      0.001       0.002       0.006\n",
      "log(Ct-2/Ct-3)    -0.0186      0.136     -0.137      0.891      -0.286       0.249\n",
      "log(Ct-3/Ct-4)     0.3372      0.137      2.465      0.014       0.068       0.607\n",
      "log(Ct-4/Ct-5)     0.1704      0.136      1.250      0.213      -0.098       0.439\n",
      "log(Ct-5/Ct-6)    -0.2219      0.135     -1.641      0.102      -0.488       0.045\n",
      "==============================================================================\n",
      "Omnibus:                       88.097   Durbin-Watson:                   2.126\n",
      "Prob(Omnibus):                  0.000   Jarque-Bera (JB):              723.921\n",
      "Skew:                           1.345   Prob(JB):                    6.35e-158\n",
      "Kurtosis:                      11.599   Cond. No.                         219.\n",
      "==============================================================================\n",
      "\n",
      "Notes:\n",
      "[1] Standard Errors assume that the covariance matrix of the errors is correctly specified.\n"
     ]
    }
   ],
   "source": [
    "# Stage 1 - Regress log(Yt/Yt-1) on instruments\n",
    "X_stage12 = data_H2[['log(Ct-2/Ct-3)', 'log(Ct-3/Ct-4)', 'log(Ct-4/Ct-5)', 'log(Ct-5/Ct-6)']]\n",
    "X_stage12 = sm.add_constant(X_stage12)  # Add a constant\n",
    "y_stage12 = data_H2['log(Yt/Yt-1)']  # Endogenous variable\n",
    "\n",
    "# Fit Stage 1 regression\n",
    "stage1_model2 = sm.OLS(y_stage12, X_stage12).fit()\n",
    "\n",
    "# Get fitted values from Stage 1\n",
    "data_H2['fitted_X'] = stage1_model2.fittedvalues\n",
    "\n",
    "print(stage1_model2.summary())"
   ]
  },
  {
   "cell_type": "code",
   "execution_count": 93,
   "metadata": {},
   "outputs": [
    {
     "name": "stdout",
     "output_type": "stream",
     "text": [
      "                            OLS Regression Results                            \n",
      "==============================================================================\n",
      "Dep. Variable:           log(Ct/Ct-1)   R-squared:                       0.032\n",
      "Model:                            OLS   Adj. R-squared:                  0.028\n",
      "Method:                 Least Squares   F-statistic:                     4.638\n",
      "Date:                Wed, 20 Nov 2024   Prob (F-statistic):             0.0324\n",
      "Time:                        16:34:27   Log-Likelihood:                 825.70\n",
      "No. Observations:                 214   AIC:                            -1647.\n",
      "Df Residuals:                     212   BIC:                            -1641.\n",
      "Df Model:                           1                                         \n",
      "Covariance Type:                  HC0                                         \n",
      "==============================================================================\n",
      "                 coef    std err          z      P>|z|      [0.025      0.975]\n",
      "------------------------------------------------------------------------------\n",
      "const          0.0026      0.001      2.179      0.029       0.000       0.005\n",
      "fitted_X       0.4369      0.203      2.154      0.031       0.039       0.835\n",
      "==============================================================================\n",
      "Omnibus:                        5.516   Durbin-Watson:                   1.591\n",
      "Prob(Omnibus):                  0.063   Jarque-Bera (JB):                8.066\n",
      "Skew:                           0.045   Prob(JB):                       0.0177\n",
      "Kurtosis:                       3.947   Cond. No.                         468.\n",
      "==============================================================================\n",
      "\n",
      "Notes:\n",
      "[1] Standard Errors are heteroscedasticity robust (HC0)\n"
     ]
    }
   ],
   "source": [
    "# Stage 2 - Regress log(Ct/Ct-1) on fitted_X\n",
    "Y_stage22 = data_H2['log(Ct/Ct-1)']\n",
    "X_stage22 = data_H2['fitted_X']\n",
    "X_stage22 = sm.add_constant(X_stage22)  # Add a constant\n",
    "\n",
    "# Fit Stage 2 regression\n",
    "stage2_model2 = sm.OLS(Y_stage22, X_stage22).fit(cov_type='HC0')\n",
    "\n",
    "# Print Stage 2 regression summary\n",
    "print(stage2_model2.summary())"
   ]
  },
  {
   "cell_type": "markdown",
   "metadata": {},
   "source": [
    "## Part D ##"
   ]
  },
  {
   "cell_type": "code",
   "execution_count": 94,
   "metadata": {},
   "outputs": [
    {
     "name": "stdout",
     "output_type": "stream",
     "text": [
      "                            OLS Regression Results                            \n",
      "==============================================================================\n",
      "Dep. Variable:           log(Yt/Yt-1)   R-squared:                       0.046\n",
      "Model:                            OLS   Adj. R-squared:                  0.028\n",
      "Method:                 Least Squares   F-statistic:                     2.509\n",
      "Date:                Wed, 20 Nov 2024   Prob (F-statistic):             0.0430\n",
      "Time:                        16:34:27   Log-Likelihood:                 687.27\n",
      "No. Observations:                 214   AIC:                            -1365.\n",
      "Df Residuals:                     209   BIC:                            -1348.\n",
      "Df Model:                           4                                         \n",
      "Covariance Type:            nonrobust                                         \n",
      "==================================================================================\n",
      "                     coef    std err          t      P>|t|      [0.025      0.975]\n",
      "----------------------------------------------------------------------------------\n",
      "const              0.0040      0.001      3.271      0.001       0.002       0.006\n",
      "log(Ct-2/Ct-3)    -0.0186      0.136     -0.137      0.891      -0.286       0.249\n",
      "log(Ct-3/Ct-4)     0.3372      0.137      2.465      0.014       0.068       0.607\n",
      "log(Ct-4/Ct-5)     0.1704      0.136      1.250      0.213      -0.098       0.439\n",
      "log(Ct-5/Ct-6)    -0.2219      0.135     -1.641      0.102      -0.488       0.045\n",
      "==============================================================================\n",
      "Omnibus:                       88.097   Durbin-Watson:                   2.126\n",
      "Prob(Omnibus):                  0.000   Jarque-Bera (JB):              723.921\n",
      "Skew:                           1.345   Prob(JB):                    6.35e-158\n",
      "Kurtosis:                      11.599   Cond. No.                         219.\n",
      "==============================================================================\n",
      "\n",
      "Notes:\n",
      "[1] Standard Errors assume that the covariance matrix of the errors is correctly specified.\n"
     ]
    }
   ],
   "source": [
    "# Rerun Stage 1 and store residuals\n",
    "X_stage12 = data_H2[['log(Ct-2/Ct-3)', 'log(Ct-3/Ct-4)', 'log(Ct-4/Ct-5)', 'log(Ct-5/Ct-6)']]\n",
    "X_stage12 = sm.add_constant(X_stage12)  # Add a constant\n",
    "y_stage12 = data_H2['log(Yt/Yt-1)']  # Endogenous variable\n",
    "\n",
    "# Fit Stage 1 regression\n",
    "stage1_model22 = sm.OLS(y_stage12, X_stage12).fit()\n",
    "\n",
    "# Save residuals\n",
    "data_H2['residuals'] = stage1_model22.resid\n",
    "\n",
    "# Print\n",
    "print(stage1_model22.summary())"
   ]
  },
  {
   "cell_type": "code",
   "execution_count": 95,
   "metadata": {},
   "outputs": [
    {
     "name": "stdout",
     "output_type": "stream",
     "text": [
      "                            OLS Regression Results                            \n",
      "==============================================================================\n",
      "Dep. Variable:           log(Ct/Ct-1)   R-squared:                       0.219\n",
      "Model:                            OLS   Adj. R-squared:                  0.212\n",
      "Method:                 Least Squares   F-statistic:                     29.64\n",
      "Date:                Wed, 20 Nov 2024   Prob (F-statistic):           4.53e-12\n",
      "Time:                        16:34:27   Log-Likelihood:                 848.67\n",
      "No. Observations:                 214   AIC:                            -1691.\n",
      "Df Residuals:                     211   BIC:                            -1681.\n",
      "Df Model:                           2                                         \n",
      "Covariance Type:            nonrobust                                         \n",
      "================================================================================\n",
      "                   coef    std err          t      P>|t|      [0.025      0.975]\n",
      "--------------------------------------------------------------------------------\n",
      "const            0.0026      0.001      3.107      0.002       0.001       0.004\n",
      "log(Yt/Yt-1)     0.4369      0.148      2.957      0.003       0.146       0.728\n",
      "residuals       -0.2067      0.151     -1.367      0.173      -0.505       0.091\n",
      "==============================================================================\n",
      "Omnibus:                       11.818   Durbin-Watson:                   2.000\n",
      "Prob(Omnibus):                  0.003   Jarque-Bera (JB):               21.762\n",
      "Skew:                           0.251   Prob(JB):                     1.88e-05\n",
      "Kurtosis:                       4.480   Cond. No.                         666.\n",
      "==============================================================================\n",
      "\n",
      "Notes:\n",
      "[1] Standard Errors assume that the covariance matrix of the errors is correctly specified.\n"
     ]
    }
   ],
   "source": [
    "# Control Function Regression (add residuals to second-stage regression)\n",
    "X_stage22 = data_H2[['log(Yt/Yt-1)', 'residuals']]  # Include endogenous variable and residuals\n",
    "X_stage22 = sm.add_constant(X_stage22)  # Add a constant\n",
    "Y_stage22 = data_H2['log(Ct/Ct-1)']\n",
    "\n",
    "# Fit the control function regression\n",
    "control_function_model2 = sm.OLS(Y_stage22, X_stage22).fit()\n",
    "\n",
    "# Print the summary of the regression\n",
    "print(control_function_model2.summary())"
   ]
  },
  {
   "cell_type": "code",
   "execution_count": 96,
   "metadata": {},
   "outputs": [
    {
     "name": "stdout",
     "output_type": "stream",
     "text": [
      "Fail to reject H0: log(Yt/Yt-1) might be exogenous.\n"
     ]
    }
   ],
   "source": [
    "# Check the p-value of the coefficient of 'residuals'\n",
    "if control_function_model2.pvalues['residuals'] < 0.05:\n",
    "    print(\"Reject H0: log(Yt/Yt-1) is endogenous.\")\n",
    "else:\n",
    "    print(\"Fail to reject H0: log(Yt/Yt-1) might be exogenous.\")"
   ]
  },
  {
   "cell_type": "code",
   "execution_count": 97,
   "metadata": {},
   "outputs": [],
   "source": [
    "# Wu Hausman Testing using linearmodels\n",
    "# Define dependent variable, endogenous variable, and instruments\n",
    "Y = data_H2['log(Ct/Ct-1)']  # Dependent variable\n",
    "endog = data_H2['log(Yt/Yt-1)']  # Endogenous variable\n",
    "instruments = data_H2[['log(Ct-2/Ct-3)', 'log(Ct-3/Ct-4)', 'log(Ct-4/Ct-5)', 'log(Ct-5/Ct-6)']]\n",
    "\n",
    "# Add a constant to instruments\n",
    "exog = sm.add_constant(pd.DataFrame({'constant':1}, index=data_H2.index))\n"
   ]
  },
  {
   "cell_type": "code",
   "execution_count": 98,
   "metadata": {},
   "outputs": [],
   "source": [
    "# 1. Fit the OLS Model using linearmodels\n",
    "ols_model = IV2SLS(dependent=Y, exog=endog, endog=None, instruments=None).fit()\n",
    "\n",
    "# 2. Fit the 2SLS Model using linearmodels\n",
    "iv_model = IV2SLS(dependent=Y, exog=exog, endog=endog, instruments=instruments).fit()"
   ]
  },
  {
   "cell_type": "code",
   "execution_count": 99,
   "metadata": {},
   "outputs": [
    {
     "name": "stdout",
     "output_type": "stream",
     "text": [
      "Wooldridge's regression test of exogeneity\n",
      "H0: Endogenous variables are exogenous\n",
      "Statistic: 1.1399\n",
      "P-value: 0.2857\n",
      "Distributed: chi2(1)\n",
      "Wooldridge's score test of overidentification\n",
      "H0: Model is not overidentified.\n",
      "Statistic: 5.0870\n",
      "P-value: 0.1655\n",
      "Distributed: chi2(3)\n"
     ]
    }
   ],
   "source": [
    "# Using Wooldridge regression test #\n",
    "print(iv_model.wooldridge_regression)\n",
    "print(iv_model.wooldridge_overid)"
   ]
  },
  {
   "cell_type": "code",
   "execution_count": 100,
   "metadata": {},
   "outputs": [
    {
     "name": "stdout",
     "output_type": "stream",
     "text": [
      "                          IV-2SLS Estimation Summary                          \n",
      "==============================================================================\n",
      "Dep. Variable:           log(Ct/Ct-1)   R-squared:                      0.0685\n",
      "Estimator:                    IV-2SLS   Adj. R-squared:                 0.0641\n",
      "No. Observations:                 214   F-statistic:                    4.6529\n",
      "Date:                Wed, Nov 20 2024   P-value (F-stat)                0.0310\n",
      "Time:                        16:34:27   Distribution:                  chi2(1)\n",
      "Cov. Estimator:                robust                                         \n",
      "                                                                              \n",
      "                              Parameter Estimates                               \n",
      "================================================================================\n",
      "              Parameter  Std. Err.     T-stat    P-value    Lower CI    Upper CI\n",
      "--------------------------------------------------------------------------------\n",
      "constant         0.0026     0.0012     2.2579     0.0240      0.0003      0.0049\n",
      "log(Yt/Yt-1)     0.4369     0.2026     2.1571     0.0310      0.0399      0.8339\n",
      "================================================================================\n",
      "\n",
      "Endogenous: log(Yt/Yt-1)\n",
      "Instruments: log(Ct-2/Ct-3), log(Ct-3/Ct-4), log(Ct-4/Ct-5), log(Ct-5/Ct-6)\n",
      "Robust Covariance (Heteroskedastic)\n",
      "Debiased: False\n"
     ]
    }
   ],
   "source": [
    "print(iv_model)"
   ]
  },
  {
   "cell_type": "code",
   "execution_count": 101,
   "metadata": {},
   "outputs": [
    {
     "name": "stdout",
     "output_type": "stream",
     "text": [
      "Wu-Hausman Test Statistic: nan\n",
      "Degrees of Freedom: 2\n",
      "P-value: nan\n"
     ]
    }
   ],
   "source": [
    "# This is not actually used. It would have been used for the Wu-Hausman test statistic (manual calculation)\n",
    "# Step 1: Difference in coefficients\n",
    "beta_diff = ols_model.params - iv_model.params\n",
    "\n",
    "# Step 2: Variance of the difference\n",
    "cov_diff = ols_model.cov + iv_model.cov\n",
    "test_stat = beta_diff.T @ np.linalg.inv(cov_diff) @ beta_diff\n",
    "\n",
    "# Step 3: Degrees of freedom\n",
    "df = len(beta_diff)  # Number of coefficients compared\n",
    "\n",
    "# Step 4: Compute the p-value\n",
    "p_value = 1 - chi2.cdf(test_stat, df)\n",
    "\n",
    "# Output the results\n",
    "print(f\"Wu-Hausman Test Statistic: {test_stat:.4f}\")\n",
    "print(f\"Degrees of Freedom: {df}\")\n",
    "print(f\"P-value: {p_value:.4f}\")"
   ]
  },
  {
   "cell_type": "code",
   "execution_count": 102,
   "metadata": {},
   "outputs": [
    {
     "name": "stdout",
     "output_type": "stream",
     "text": [
      "                            OLS Regression Results                            \n",
      "==============================================================================\n",
      "Dep. Variable:                      y   R-squared:                       0.035\n",
      "Model:                            OLS   Adj. R-squared:                  0.016\n",
      "Method:                 Least Squares   F-statistic:                     1.884\n",
      "Date:                Wed, 20 Nov 2024   Prob (F-statistic):              0.114\n",
      "Time:                        16:34:27   Log-Likelihood:                 829.49\n",
      "No. Observations:                 214   AIC:                            -1649.\n",
      "Df Residuals:                     209   BIC:                            -1632.\n",
      "Df Model:                           4                                         \n",
      "Covariance Type:            nonrobust                                         \n",
      "==================================================================================\n",
      "                     coef    std err          t      P>|t|      [0.025      0.975]\n",
      "----------------------------------------------------------------------------------\n",
      "const             -0.0007      0.001     -1.112      0.268      -0.002       0.001\n",
      "log(Ct-2/Ct-3)     0.1826      0.070      2.611      0.010       0.045       0.320\n",
      "log(Ct-3/Ct-4)     0.0105      0.070      0.150      0.881      -0.128       0.149\n",
      "log(Ct-4/Ct-5)    -0.0598      0.070     -0.852      0.395      -0.198       0.079\n",
      "log(Ct-5/Ct-6)     0.0073      0.070      0.105      0.916      -0.130       0.144\n",
      "==============================================================================\n",
      "Omnibus:                        4.853   Durbin-Watson:                   1.650\n",
      "Prob(Omnibus):                  0.088   Jarque-Bera (JB):                6.687\n",
      "Skew:                          -0.028   Prob(JB):                       0.0353\n",
      "Kurtosis:                       3.864   Cond. No.                         219.\n",
      "==============================================================================\n",
      "\n",
      "Notes:\n",
      "[1] Standard Errors assume that the covariance matrix of the errors is correctly specified.\n"
     ]
    }
   ],
   "source": [
    "# Sargan test for overidentification\n",
    "# Extract residuals from the 2SLS regression\n",
    "residuals2 = stage2_model2.resid  # Residuals from the 2SLS second stage\n",
    "\n",
    "# Regress residuals on all instruments\n",
    "instruments = data_H2[['log(Ct-2/Ct-3)', 'log(Ct-3/Ct-4)', 'log(Ct-4/Ct-5)', 'log(Ct-5/Ct-6)']]\n",
    "instruments = sm.add_constant(instruments)  # Add a constant\n",
    "\n",
    "# Fit the regression\n",
    "sargan_model = sm.OLS(residuals2, instruments).fit()\n",
    "\n",
    "print(sargan_model.summary())"
   ]
  },
  {
   "cell_type": "code",
   "execution_count": 103,
   "metadata": {},
   "outputs": [
    {
     "name": "stdout",
     "output_type": "stream",
     "text": [
      "7.449032022963289\n",
      "0.03480856085496864\n",
      "214\n"
     ]
    }
   ],
   "source": [
    "# Calculate the Sargan statistic\n",
    "n = len(residuals2)  # Number of observations\n",
    "R_squared = sargan_model.rsquared  # R-squared from the regression\n",
    "Sargan_stat = n * R_squared  # Sargan statistic\n",
    "print(Sargan_stat)\n",
    "print(R_squared)\n",
    "print(n)"
   ]
  },
  {
   "cell_type": "code",
   "execution_count": 104,
   "metadata": {},
   "outputs": [
    {
     "name": "stdout",
     "output_type": "stream",
     "text": [
      "4\n",
      "3\n"
     ]
    }
   ],
   "source": [
    "# Degrees of freedom for the chi-square test\n",
    "l = 4\n",
    "k = 1  # Number of endogenous regressors\n",
    "df = l - k  # Degrees of freedom\n",
    "print(l)\n",
    "print(df)"
   ]
  },
  {
   "cell_type": "code",
   "execution_count": 105,
   "metadata": {},
   "outputs": [
    {
     "name": "stdout",
     "output_type": "stream",
     "text": [
      "7.814727903251179\n"
     ]
    }
   ],
   "source": [
    "# Chi-square\n",
    "chi_square_critical = chi2.ppf(1 - 0.05, df)\n",
    "print(chi_square_critical)"
   ]
  }
 ],
 "metadata": {
  "kernelspec": {
   "display_name": ".venv",
   "language": "python",
   "name": "python3"
  },
  "language_info": {
   "codemirror_mode": {
    "name": "ipython",
    "version": 3
   },
   "file_extension": ".py",
   "mimetype": "text/x-python",
   "name": "python",
   "nbconvert_exporter": "python",
   "pygments_lexer": "ipython3",
   "version": "3.10.11"
  }
 },
 "nbformat": 4,
 "nbformat_minor": 2
}
